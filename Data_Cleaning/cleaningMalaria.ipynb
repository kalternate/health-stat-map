{
 "cells": [
  {
   "cell_type": "code",
   "execution_count": 17,
   "metadata": {},
   "outputs": [],
   "source": [
    "import pandas as pd\n",
    "import pyarrow\n",
    "import numpy as np\n",
    "\n",
    "pd.set_option('display.max_columns', None)"
   ]
  },
  {
   "cell_type": "code",
   "execution_count": 18,
   "metadata": {},
   "outputs": [],
   "source": [
    "# Method to seperate data into different files based on date\n",
    "# Return CSV files based on date\n",
    "def seperateFiles(df):\n",
    "    listDates = list(set((df['YEAR'])))\n",
    "    for item in listDates:\n",
    "        # Gets new data frame with all the same date.\n",
    "        newDates_df = df[df['YEAR'] == item]\n",
    "        # newDates_df\n",
    "        newDates_df.to_csv(f'MALARIA_EST_INCIDENCE_{item}.csv', index=False)\n"
   ]
  },
  {
   "cell_type": "code",
   "execution_count": 19,
   "metadata": {},
   "outputs": [
    {
     "data": {
      "text/plain": [
       "\"\\n~ Find common columns that have none to drop. # print(set(df['colName']))\\nDrop all of these columns:\\nDim1Type, Dim1, Dim2Type, Dim2, Dim3Type, Dim3, DataSourceDimType, DataSourceDim, Comments  --> Dropped all values are {None}\\n\\n~ The column 'Date' only has this value I am guessing its the date the data was updated --> {'2024-12-10T17:44:48.22+01:00'}\\n    Maybe we could drop this column and store it as metadata somehow?\\n\\n~ SpatialDimType (this attribute includes Global and Regional. Not just country. What do we want to do with those?)\\nCOUNTRY    2518\\nREGION      138\\nGLOBAL       23\\ndf['col1'].value_counts()\\n\\n~ TimeDimensionBegin and TimeDimensionEnd --> Seem to be just the time stamps at the start and end of the year. Should I drop those? \\n\\n~ What is the difference between --> TimeDim and TimeDimensionValue ????? \\nThey are the same values, but...\\n    TimeDimensionValue --> string object\\n    TimeDim --> is a int64\\nHow do we want to handle this? I say KEEP TimeDim and Drop TimeDimensionValue\\n\\n~ Name of the file and indicator code should be the same... Drop IndicatorCode\\n\\n~ Change TimeDim --> Year. Drop TimeDimType\\n\\n\""
      ]
     },
     "execution_count": 19,
     "metadata": {},
     "output_type": "execute_result"
    }
   ],
   "source": [
    "'''\n",
    "~ Find common columns that have none to drop. # print(set(df['colName']))\n",
    "Drop all of these columns:\n",
    "Dim1Type, Dim1, Dim2Type, Dim2, Dim3Type, Dim3, DataSourceDimType, DataSourceDim, Comments  --> Dropped all values are {None}\n",
    "\n",
    "~ The column 'Date' only has this value I am guessing its the date the data was updated --> {'2024-12-10T17:44:48.22+01:00'}\n",
    "    Maybe we could drop this column and store it as metadata somehow?\n",
    "\n",
    "~ SpatialDimType (this attribute includes Global and Regional. Not just country. What do we want to do with those?)\n",
    "COUNTRY    2518\n",
    "REGION      138\n",
    "GLOBAL       23\n",
    "df['col1'].value_counts()\n",
    "\n",
    "~ TimeDimensionBegin and TimeDimensionEnd --> Seem to be just the time stamps at the start and end of the year. Should I drop those? \n",
    "\n",
    "~ What is the difference between --> TimeDim and TimeDimensionValue ????? \n",
    "They are the same values, but...\n",
    "    TimeDimensionValue --> string object\n",
    "    TimeDim --> is a int64\n",
    "How do we want to handle this? I say KEEP TimeDim and Drop TimeDimensionValue\n",
    "\n",
    "~ Name of the file and indicator code should be the same... Drop IndicatorCode\n",
    "\n",
    "~ Change TimeDim --> Year. Drop TimeDimType\n",
    "\n",
    "'''"
   ]
  },
  {
   "cell_type": "code",
   "execution_count": 20,
   "metadata": {},
   "outputs": [],
   "source": [
    "# MALARIA_EST_INCIDENCE\n",
    "parquet_file = \"../DataCleaningCode/Malaria/MALARIA_EST_INCIDENCE.parquet\"\n",
    "df = pd.read_parquet(parquet_file, engine='pyarrow')\n",
    "\n",
    "# Dropped all columns with {None}, TimeDimensionValue (it was the string version of TimeDim), TimeDimType (because it is just YEAR; Changed TimeDim --> Year), IndicatorCode (because its the Name of the file)\n",
    "df.drop(columns=['Dim1Type', 'Dim1', 'Dim2Type', 'Dim2', 'Dim3Type', 'Dim3', 'DataSourceDimType', 'DataSourceDim', 'Comments', 'TimeDimensionValue', 'TimeDimType', 'IndicatorCode'], inplace=True)\n",
    "\n",
    "# Renamed TimeDim --> Year\n",
    "df.rename({'TimeDim': 'YEAR'}, axis=1, inplace=True)\n",
    "# df"
   ]
  },
  {
   "cell_type": "code",
   "execution_count": 21,
   "metadata": {},
   "outputs": [],
   "source": [
    "# MALARIA_EST_MORTALITY\n",
    "parquet_file = \"../DataCleaningCode/Malaria/MALARIA_EST_MORTALITY.parquet\"\n",
    "df = pd.read_parquet(parquet_file, engine='pyarrow')\n",
    "\n",
    "# Dropped all columns with {None}, TimeDimensionValue (it was the string version of TimeDim), TimeDimType (because it is just YEAR; Changed TimeDim --> Year), IndicatorCode (because its the Name of the file)\n",
    "df.drop(columns=['Dim1Type', 'Dim1', 'Dim2Type', 'Dim2', 'Dim3Type', 'Dim3', 'DataSourceDimType', 'DataSourceDim', 'Comments', 'TimeDimensionValue', 'TimeDimType', 'IndicatorCode'], inplace=True)\n",
    "\n",
    "# Renamed TimeDim --> Year\n",
    "df.rename({'TimeDim': 'YEAR'}, axis=1, inplace=True)\n",
    "# df"
   ]
  },
  {
   "cell_type": "code",
   "execution_count": 22,
   "metadata": {},
   "outputs": [],
   "source": [
    "# MALARIA_EST_CASES\n",
    "parquet_file = \"../DataCleaningCode/Malaria/MALARIA_EST_CASES.parquet\"\n",
    "df = pd.read_parquet(parquet_file, engine='pyarrow')\n",
    "\n",
    "# Dropped all columns with {None}, TimeDimensionValue (it was the string version of TimeDim), TimeDimType (because it is just YEAR; Changed TimeDim --> Year), IndicatorCode (because its the Name of the file)\n",
    "df.drop(columns=['Dim1Type', 'Dim1', 'Dim2Type', 'Dim2', 'Dim3Type', 'Dim3', 'DataSourceDimType', 'DataSourceDim', 'Comments', 'TimeDimensionValue', 'TimeDimType', 'IndicatorCode'], inplace=True)\n",
    "\n",
    "# Renamed TimeDim --> Year\n",
    "df.rename({'TimeDim': 'YEAR'}, axis=1, inplace=True)\n",
    "# df"
   ]
  },
  {
   "cell_type": "code",
   "execution_count": 23,
   "metadata": {},
   "outputs": [],
   "source": [
    "# MALARIA_EST_DEATHS\n",
    "parquet_file = \"../DataCleaningCode/Malaria/MALARIA_EST_DEATHS.parquet\"\n",
    "df = pd.read_parquet(parquet_file, engine='pyarrow')\n",
    "\n",
    "# Dropped all columns with {None}, TimeDimensionValue (it was the string version of TimeDim), TimeDimType (because it is just YEAR; Changed TimeDim --> Year), IndicatorCode (because its the Name of the file)\n",
    "df.drop(columns=['Dim1Type', 'Dim1', 'Dim2Type', 'Dim2', 'Dim3Type', 'Dim3', 'DataSourceDimType', 'DataSourceDim', 'Comments', 'TimeDimensionValue', 'TimeDimType', 'IndicatorCode'], inplace=True)\n",
    "\n",
    "# Renamed TimeDim --> Year\n",
    "df.rename({'TimeDim': 'YEAR'}, axis=1, inplace=True)\n",
    "# df"
   ]
  },
  {
   "cell_type": "code",
   "execution_count": null,
   "metadata": {},
   "outputs": [],
   "source": []
  }
 ],
 "metadata": {
  "kernelspec": {
   "display_name": ".venv",
   "language": "python",
   "name": "python3"
  },
  "language_info": {
   "codemirror_mode": {
    "name": "ipython",
    "version": 3
   },
   "file_extension": ".py",
   "mimetype": "text/x-python",
   "name": "python",
   "nbconvert_exporter": "python",
   "pygments_lexer": "ipython3",
   "version": "3.11.1"
  }
 },
 "nbformat": 4,
 "nbformat_minor": 2
}
