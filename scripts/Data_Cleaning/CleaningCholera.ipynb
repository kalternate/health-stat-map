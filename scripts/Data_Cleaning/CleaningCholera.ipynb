{
  "nbformat": 4,
  "nbformat_minor": 0,
  "metadata": {
    "colab": {
      "provenance": []
    },
    "kernelspec": {
      "name": "python3",
      "display_name": "Python 3"
    },
    "language_info": {
      "name": "python"
    }
  },
  "cells": [
    {
      "cell_type": "code",
      "source": [
        "# Getting the cholera data\n",
        "\n",
        "import pandas as pd\n",
        "import os"
      ],
      "metadata": {
        "id": "TYyHmwgxnT9V"
      },
      "execution_count": null,
      "outputs": []
    },
    {
      "cell_type": "code",
      "source": [
        "import pandas as pd\n",
        "import os\n",
        "\n",
        "#Load data from drive\n",
        "cases_df = pd.read_parquet(\"/content/drive/MyDrive/CSCI 436 Data/data/CHOLERA_0000000001.parquet\") #Change path to your data location\n",
        "deaths_df = pd.read_parquet(\"/content/drive/MyDrive/CSCI 436 Data/data/CHOLERA_0000000002.parquet\") #Change path to your data location\n",
        "fatality_df = pd.read_parquet(\"/content/drive/MyDrive/CSCI 436 Data/data/CHOLERA_0000000003.parquet\") #Change path to your data location\n",
        "\n",
        "#Rename value columns to what they represent\n",
        "cases_df = cases_df.rename(columns={\"Value\": \"Reported Cholera Cases\"})\n",
        "deaths_df = deaths_df.rename(columns={\"Value\": \"Reported Cholera Deaths\"})\n",
        "fatality_df = fatality_df.rename(columns={\"Value\": \"Cholera Case Fatality Rate\"})\n",
        "\n",
        "#Select columns for merging\n",
        "merge_keys = [\"SpatialDim\", \"TimeDim\"]\n",
        "cases_df = cases_df[merge_keys + [\"Reported Cholera Cases\"]]\n",
        "deaths_df = deaths_df[merge_keys + [\"Reported Cholera Deaths\"]]\n",
        "fatality_df = fatality_df[merge_keys + [\"Cholera Case Fatality Rate\"]]\n",
        "\n",
        "#Merge the df's into one\n",
        "combined_df = cases_df.merge(deaths_df, on=merge_keys, how=\"outer\")\n",
        "combined_df = combined_df.merge(fatality_df, on=merge_keys, how=\"outer\")\n",
        "combined_df = combined_df.sort_values(by=merge_keys)\n",
        "combined_df.rename(columns={'TimeDim': 'Year', 'SpatialDim': 'Country'}, inplace=True)\n",
        "\n",
        "#Split by year and indicator\n",
        "output_dir = \"/content/drive/MyDrive/CSCI 436 Data/data/cholera_by_year\"\n",
        "os.makedirs(output_dir, exist_ok=True)\n",
        "\n",
        "for year in combined_df[\"Year\"].dropna().unique():\n",
        "    year_df = combined_df[combined_df[\"Year\"] == year]\n",
        "\n",
        "    for indicator, col_name in {\n",
        "        \"cases\": \"Reported Cholera Cases\",\n",
        "        \"deaths\": \"Reported Cholera Deaths\",\n",
        "        \"fatality_rate\": \"Cholera Case Fatality Rate\"\n",
        "    }.items():\n",
        "        output_path = os.path.join(output_dir, f\"{indicator}_{int(year)}.csv\")\n",
        "        export_df = year_df[[\"Country\", \"Year\", col_name]].dropna(subset=[col_name])\n",
        "        export_df.to_csv(output_path, index=False)"
      ],
      "metadata": {
        "colab": {
          "base_uri": "https://localhost:8080/"
        },
        "id": "l7aacwHQYaTK",
        "outputId": "e821827a-d8cc-452d-a7e8-1ee8569d5b2f"
      },
      "execution_count": null,
      "outputs": [
        {
          "output_type": "stream",
          "name": "stdout",
          "text": [
            "All files created successfully.\n"
          ]
        }
      ]
    }
  ]
}