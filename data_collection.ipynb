{
 "cells": [
  {
   "cell_type": "code",
   "execution_count": 1,
   "id": "3987aa2a",
   "metadata": {},
   "outputs": [],
   "source": [
    "import warnings\n",
    "import polars as pl\n",
    "import numpy as np\n",
    "import requests\n",
    "import json\n",
    "from requests.adapters import HTTPAdapter, Retry\n",
    "from pathlib import Path\n",
    "from tqdm import tqdm\n",
    "import os\n",
    "import sys"
   ]
  },
  {
   "cell_type": "code",
   "execution_count": 2,
   "id": "89b06252",
   "metadata": {},
   "outputs": [],
   "source": [
    "s = requests.Session()\n",
    "retry = Retry(\n",
    "    total=10,\n",
    "    backoff_factor=0.5,\n",
    "    status_forcelist=[500, 502, 503, 504],\n",
    "allowed_methods=['GET']\n",
    ")\n",
    "s.mount('https://', HTTPAdapter(max_retries=retry))\n",
    "s.headers['Accept'] = \"application/json;odata.metadata=none\""
   ]
  },
  {
   "cell_type": "code",
   "execution_count": 3,
   "id": "2619985d",
   "metadata": {},
   "outputs": [],
   "source": [
    "indicators_response = s.get(\"https://ghoapi.azureedge.net/api/Indicator?$format=json\", timeout=60)\n",
    "indicators = [row['IndicatorCode'] for row in indicators_response.json()['value']]"
   ]
  },
  {
   "cell_type": "code",
   "execution_count": 4,
   "id": "464ec7b0",
   "metadata": {},
   "outputs": [
    {
     "name": "stderr",
     "output_type": "stream",
     "text": [
      "100%|██████████| 3001/3001 [1:42:46<00:00,  2.05s/it]  \n"
     ]
    }
   ],
   "source": [
    "existing = os.listdir('data')\n",
    "\n",
    "for indicator in tqdm(indicators):\n",
    "\tif f\"{indicator}.parquet\" in existing:\n",
    "\t\t\tcontinue\n",
    "\n",
    "\turl = f\"https://ghoapi.azureedge.net/api/{indicator}\"\n",
    "\n",
    "\tfor attempt in range(3):\n",
    "\t\ttry:\n",
    "\t\t\tnew_request = s.get(url)\n",
    "\t\t\tbreak\n",
    "\t\texcept (requests.exceptions.ChunkedEncodingError, requests.exceptions.ConnectionError):\n",
    "\t\t\tif attempt == 2: sys.exit(f\"failed on {indicator}\")\n",
    "\t\t\tcontinue\n",
    "\n",
    "\ttry:\n",
    "\t\textract = new_request.json()\n",
    "\texcept json.decoder.JSONDecodeError:\n",
    "\t\tcontinue\n",
    "\n",
    "\tif len(extract['value']) == 0:\n",
    "\t\tcontinue\n",
    "\n",
    "\tnew_df = pl.from_dicts(extract['value'], infer_schema_length=None)\n",
    "\tnew_df.write_parquet(f'data/{indicator}.parquet', compression='snappy')"
   ]
  }
 ],
 "metadata": {
  "kernelspec": {
   "display_name": "statmap",
   "language": "python",
   "name": "python3"
  },
  "language_info": {
   "codemirror_mode": {
    "name": "ipython",
    "version": 3
   },
   "file_extension": ".py",
   "mimetype": "text/x-python",
   "name": "python",
   "nbconvert_exporter": "python",
   "pygments_lexer": "ipython3",
   "version": "3.11.11"
  }
 },
 "nbformat": 4,
 "nbformat_minor": 5
}
